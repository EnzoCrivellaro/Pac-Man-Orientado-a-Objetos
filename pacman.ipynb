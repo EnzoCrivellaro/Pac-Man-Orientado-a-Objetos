{
 "cells": [
  {
   "cell_type": "code",
   "execution_count": null,
   "metadata": {},
   "outputs": [],
   "source": [
    "#!/usr/bin/env python3\n",
    "# -*- coding: utf-8 -*-\n",
    "\n",
    "from agente import *\n",
    "from labirinto import *\n",
    "\n",
    "def main():\n",
    "\n",
    "    dimensao_da_matriz = 20\n",
    "    tam_celula = 20\n",
    "\n",
    "    # Cria o labirinto\n",
    "    lab = Labirinto(dimensao_da_matriz, tam_celula)\n",
    "    lab.criar_labirinto()\n",
    "\n",
    "    # Cria o agente\n",
    "    tam_agente = 20\n",
    "    agente = Agente(tam_agente, tam_celula)\n",
    "\n",
    "    # Obtém as coordenadas de onde inserir o agente e desenha na tela\n",
    "    lin, col = lab.cel_aleatoria()\n",
    "    x, y = lab.em_coord_turtle(lin, col)\n",
    "    agente.desenhar_agente(x, y, 'yellow')\n",
    "\n",
    "    # Atualiza o turtle e finaliza\n",
    "    update()\n",
    "    done()\n",
    "\n",
    "main()"
   ]
  },
  {
   "cell_type": "code",
   "execution_count": null,
   "metadata": {},
   "outputs": [],
   "source": []
  }
 ],
 "metadata": {
  "kernelspec": {
   "display_name": "Python 3",
   "language": "python",
   "name": "python3"
  },
  "language_info": {
   "codemirror_mode": {
    "name": "ipython",
    "version": 3
   },
   "file_extension": ".py",
   "mimetype": "text/x-python",
   "name": "python",
   "nbconvert_exporter": "python",
   "pygments_lexer": "ipython3",
   "version": "3.6.11"
  }
 },
 "nbformat": 4,
 "nbformat_minor": 4
}
